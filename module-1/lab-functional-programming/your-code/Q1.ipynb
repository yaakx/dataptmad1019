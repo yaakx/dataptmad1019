{
 "cells": [
  {
   "cell_type": "markdown",
   "metadata": {},
   "source": [
    "In the cell below, create a Python function that wraps your previous solution for the Bag of Words lab.\n",
    "\n",
    "Requirements:\n",
    "\n",
    "1. Your function should accept the following parameters:\n",
    "    * `docs` [REQUIRED] - array of document paths.\n",
    "    * `stop_words` [OPTIONAL] - array of stop words. The default value is an empty array.\n",
    "\n",
    "1. Your function should return a Python object that contains the following:\n",
    "    * `bag_of_words` - array of strings of normalized unique words in the corpus.\n",
    "    * `term_freq` - array of the term-frequency vectors."
   ]
  },
  {
   "cell_type": "code",
   "execution_count": 8,
   "metadata": {},
   "outputs": [],
   "source": [
    "# Import required libraries\n",
    "\n",
    "# Define function\n",
    "def get_bow_from_docs(docs, stop_words=[]):\n",
    "    \n",
    "    # In the function, first define the variables you will use such as `corpus`, `bag_of_words`, and `term_freq`.\n",
    "    corpus = []\n",
    "    bag_of_words = []\n",
    "    term_freq = []\n",
    "    \n",
    "    \n",
    "    \"\"\"\n",
    "    Loop `docs` and read the content of each doc into a string in `corpus`.\n",
    "    Remember to convert the doc content to lowercases and remove punctuation.\n",
    "    \"\"\"\n",
    "    for d in docs:\n",
    "        f = open(d, 'r')\n",
    "        g = f.read().lower().replace(\".\",\"\")\n",
    "        corpus.append(g)\n",
    "        f.close()\n",
    "    \n",
    "    \n",
    "    \"\"\"\n",
    "    Loop `corpus`. Append the terms in each doc into the `bag_of_words` array. The terms in `bag_of_words` \n",
    "    should be unique which means before adding each term you need to check if it's already added to the array.\n",
    "    In addition, check if each term is in the `stop_words` array. Only append the term to `bag_of_words`\n",
    "    if it is not a stop word.\n",
    "    \"\"\"\n",
    "    for s in corpus:\n",
    "        splited = s.split()\n",
    "        for e in splited:\n",
    "            if e not in bag_of_words and e not in stop_words:\n",
    "                bag_of_words.append(e)\n",
    "    \n",
    "    \n",
    "    \n",
    "    \"\"\"\n",
    "    Loop `corpus` again. For each doc string, count the number of occurrences of each term in `bag_of_words`. \n",
    "    Create an array for each doc's term frequency and append it to `term_freq`.\n",
    "    \"\"\"\n",
    "    for s in corpus:\n",
    "        temp = []\n",
    "        s = s.split()\n",
    "        for i in bag_of_words:\n",
    "            if i in s:\n",
    "                temp.append(1)\n",
    "            else:\n",
    "                temp.append(0)\n",
    "        term_freq.append(temp)\n",
    "    \n",
    "    \n",
    "    # Now return your output as an object\n",
    "    return {\n",
    "        \"bag_of_words\": bag_of_words,\n",
    "        \"term_freq\": term_freq\n",
    "    }\n",
    "    "
   ]
  },
  {
   "cell_type": "markdown",
   "metadata": {},
   "source": [
    "Test your function without stop words. You should see the output like below:\n",
    "\n",
    "```{'bag_of_words': ['ironhack', 'is', 'cool', 'i', 'love', 'am', 'a', 'student', 'at'], 'term_freq': [[1, 1, 1, 0, 0, 0, 0, 0, 0], [1, 0, 0, 1, 1, 0, 0, 0, 0], [1, 0, 0, 1, 0, 1, 1, 1, 1]]}```"
   ]
  },
  {
   "cell_type": "code",
   "execution_count": 9,
   "metadata": {},
   "outputs": [
    {
     "name": "stdout",
     "output_type": "stream",
     "text": [
      "{'bag_of_words': ['ironhack', 'is', 'cool', 'i', 'love', 'am', 'a', 'student', 'at'], 'term_freq': [[1, 1, 1, 0, 0, 0, 0, 0, 0], [1, 0, 0, 1, 1, 0, 0, 0, 0], [1, 0, 0, 1, 0, 1, 1, 1, 1]]}\n"
     ]
    }
   ],
   "source": [
    "# Define doc paths array\n",
    "path_dir = '../../lab-string-operations/your-code/'\n",
    "docs = [path_dir + 'doc1.txt', path_dir + 'doc2.txt', path_dir + 'doc3.txt']\n",
    "\n",
    "# Obtain BoW from your function\n",
    "bow = get_bow_from_docs(docs)\n",
    "\n",
    "# Print BoW\n",
    "print(bow)"
   ]
  },
  {
   "cell_type": "markdown",
   "metadata": {},
   "source": [
    "If your attempt above is successful, nice work done!\n",
    "\n",
    "Now test your function again with the stop words. In the previous lab we defined the stop words in a large array. In this lab, we'll import the stop words from Scikit-Learn."
   ]
  },
  {
   "cell_type": "code",
   "execution_count": 7,
   "metadata": {},
   "outputs": [
    {
     "name": "stdout",
     "output_type": "stream",
     "text": [
      "frozenset({'none', 'myself', 'whom', 'our', 'between', 'enough', 'me', 'over', 'during', 'made', 'been', 'move', 'up', 're', 'couldnt', 'wherever', 'him', 'formerly', 'amongst', 'be', 'ours', 'two', 'amoungst', 'toward', 'sometime', 'someone', 'thereafter', 'than', 'less', 'many', 'yourselves', 'in', 'on', 'several', 'too', 'show', 'hasnt', 'should', 'very', 'con', 'find', 'hereupon', 'front', 'its', 'become', 'cant', 'first', 'beyond', 'whence', 'please', 'therefore', 'mill', 'all', 'herself', 'them', 'though', 'elsewhere', 'empty', 'forty', 'whereby', 'down', 'he', 'and', 'sincere', 'hers', 'or', 'upon', 'am', 'is', 'nobody', 'whereafter', 'nothing', 'rather', 'wherein', 'anything', 'bottom', 'why', 'anyone', 'to', 'whatever', 'have', 'would', 'thick', 'if', 'detail', 'his', 'behind', 'an', 'the', 'per', 'what', 'before', 'eight', 'although', 'system', 'one', 'put', 'was', 'seem', 'somewhere', 'go', 'there', 'indeed', 'moreover', 'more', 'being', 'yet', 'any', 'three', 'else', 'noone', 'has', 'part', 'thereby', 'ie', 'my', 'she', 'due', 'where', 'namely', 'above', 'done', 'further', 'whole', 'itself', 'her', 'ever', 'well', 'which', 'nevertheless', 'top', 'whose', 'will', 'back', 'bill', 'describe', 'via', 'whereas', 'eg', 'do', 'against', 'beforehand', 'sixty', 'yourself', 'six', 'whoever', 'next', 'twenty', 'last', 'because', 'thin', 'towards', 'at', 'either', 'by', 'amount', 'thus', 'hereafter', 'onto', 'these', 'throughout', 'became', 'eleven', 'yours', 'give', 'each', 'sometimes', 'cry', 'we', 'along', 'get', 'below', 'must', 'can', 'cannot', 'five', 'they', 'mostly', 'here', 'otherwise', 'among', 'everywhere', 'without', 'whither', 'as', 'that', 'found', 'still', 'such', 'also', 'across', 'it', 'afterwards', 'us', 'himself', 'most', 'with', 'co', 'four', 'side', 'whether', 'some', 'thereupon', 'beside', 'your', 'seems', 'fifty', 'neither', 'even', 'least', 'whenever', 'besides', 'until', 'since', 'could', 'through', 'might', 'latterly', 'together', 'under', 'name', 'meanwhile', 'inc', 'after', 'so', 'ltd', 'not', 'somehow', 'becomes', 'who', 'another', 'when', 'a', 'everyone', 'always', 'every', 'never', 'other', 'already', 'see', 'while', 'former', 'out', 'therein', 'of', 'twelve', 'something', 'full', 'much', 'off', 'serious', 'anyhow', 'you', 'around', 'both', 'had', 'etc', 'often', 'into', 'anywhere', 'again', 'how', 'were', 'call', 'but', 'same', 'then', 'whereupon', 'ten', 'almost', 'perhaps', 'seemed', 'seeming', 'hundred', 'about', 'from', 'anyway', 'herein', 'only', 'others', 'few', 'mine', 'everything', 'thence', 'fire', 'third', 'however', 'for', 'de', 'now', 'themselves', 'nine', 'fifteen', 'latter', 'this', 'their', 'except', 'i', 'hence', 'fill', 'those', 'are', 'becoming', 'no', 'may', 'own', 'within', 'nowhere', 'thru', 'alone', 'keep', 'interest', 'once', 'nor', 'ourselves', 'un', 'hereby', 'take'})\n"
     ]
    }
   ],
   "source": [
    "from sklearn.feature_extraction import stop_words\n",
    "print(stop_words.ENGLISH_STOP_WORDS)"
   ]
  },
  {
   "cell_type": "markdown",
   "metadata": {},
   "source": [
    "You should have seen a large list of words that looks like:\n",
    "\n",
    "```frozenset({'across', 'mine', 'cannot', ...})```\n",
    "\n",
    "`frozenset` is a type of Python object that is immutable. In this lab you can use it just like an array without conversion."
   ]
  },
  {
   "cell_type": "markdown",
   "metadata": {},
   "source": [
    "Next, test your function with supplying `stop_words.ENGLISH_STOP_WORDS` as the second parameter."
   ]
  },
  {
   "cell_type": "code",
   "execution_count": 4,
   "metadata": {},
   "outputs": [
    {
     "name": "stdout",
     "output_type": "stream",
     "text": [
      "{'bag_of_words': ['ironhack', 'cool', 'love', 'student'], 'term_freq': [[1, 1, 0, 0], [1, 0, 1, 0], [1, 0, 0, 1]]}\n"
     ]
    }
   ],
   "source": [
    "bow = get_bow_from_docs(docs, stop_words.ENGLISH_STOP_WORDS)\n",
    "\n",
    "print(bow)"
   ]
  },
  {
   "cell_type": "markdown",
   "metadata": {},
   "source": [
    "You should have seen:\n",
    "\n",
    "```{'bag_of_words': ['ironhack', 'cool', 'love', 'student'], 'term_freq': [[1, 1, 0, 0], [1, 0, 1, 0], [1, 0, 0, 1]]}```"
   ]
  },
  {
   "cell_type": "code",
   "execution_count": null,
   "metadata": {},
   "outputs": [],
   "source": []
  }
 ],
 "metadata": {
  "kernelspec": {
   "display_name": "Python [conda env:dataenv]",
   "language": "python",
   "name": "conda-env-dataenv-py"
  },
  "language_info": {
   "codemirror_mode": {
    "name": "ipython",
    "version": 3
   },
   "file_extension": ".py",
   "mimetype": "text/x-python",
   "name": "python",
   "nbconvert_exporter": "python",
   "pygments_lexer": "ipython3",
   "version": "3.7.5"
  }
 },
 "nbformat": 4,
 "nbformat_minor": 4
}
